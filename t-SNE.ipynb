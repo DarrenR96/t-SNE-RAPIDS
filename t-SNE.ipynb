{
 "cells": [
  {
   "cell_type": "markdown",
   "metadata": {},
   "source": [
    "# t-SNE on RAPIDS\n",
    "\n",
    "This notebook is geared towards a general understanding of t-SNE as well as the estimated benefits of using RAPIDS over traditional libraries.\n",
    "\n",
    "## Understading t-SNE\n",
    "\n",
    "***General Idea***: Takes a high dimensional data-set and creates a low-dimensional representation of the original data, so that the original clustering in the high-dimensional space is preserved.\n",
    "\n",
    "*Awesome [video](https://youtu.be/NEaUSP4YerM) from StatQuest.*\n",
    "\n",
    "### A little more in-depth\n",
    "\n",
    "Given a set of N high-dimensional data points ($x_1,x_2,....x_N$), t-SNE (T-distributed Stochastic Neighbor Embedding) can be conceptualized as a two-stage algorithm as follows:\n",
    "\n",
    "--- \n",
    "1. Construct a probability distribution over pairs of the original high-dimensional data points that rewards high probability of a point being selected due to similarlity.\n",
    "\n",
    "For each pair of points $x_i, x_j$, a symmetrized version, $p_{ji}$ of the conditional similarity is computed. This symmetrized probability is dependent on the conditional similarity,$p_{j|i}$, between the pair of points. The conditional similarity measures how \"close\" $x_j$ if from $x_i$, using a Normal distribution around $x_i$, with a variance, $\\sigma^2$ that is defined for each point. \n",
    "\\begin{equation*} p_{ij} = \\frac{p_{j|i}+p_{i|j}}{2N} \\end{equation*}\n",
    "\n",
    "\n",
    "\\begin{equation*} p_{j|i} = \\frac{e^{\\frac{-||x_i - x_j||^2}{2\\sigma_i^2}}}{\\sum_{k\\neq i}e^{\\frac{-||x_i - x_k||^2}{2\\sigma_i^2}}} \\end{equation*}\n",
    "\n",
    "---\n",
    "2. Construct a probability distribution over points in the low-dimensional representation, and then minimize a divergence metric (Kullback-Leibler divergence) between the two distributions with respect to the locations of the points on the low-dimensional mapping.\n",
    "\n",
    "The data points are individually mapped onto a number line and a heavy-tailed T-distribution is used to measure similarity between the low-dimensional points, so that dissimilar objects are modelled far apart in the map. This is done by mapping the original data to the lower dimensional points $y_{1},y_{2},....y_{N}$ with a similarity measure $q_{ij}$ which reflects the similarities $p_{ij}$.\n",
    "\n",
    "\\begin{equation*} q_{ij} = \\frac{(1+||y_i - y_j||^2)^{-1}}{\\sum_{k\\neq i}(1+||y_i - y_k||^2)^{-1}} \\end{equation*}\n",
    "\n",
    "The locations of the points $y_i$ are found by minimizing the [Kullback-Leibler Divergence](https://en.wikipedia.org/wiki/Kullback%E2%80%93Leibler_divergence) from the two distributions."
   ]
  },
  {
   "cell_type": "markdown",
   "metadata": {},
   "source": [
    "## Evaluating t-SNE on MNIST Dataset\n",
    "\n",
    "We need to download the data first of all from the [MNIST DATABASE](http://yann.lecun.com/exdb/mnist/), and load it into the environment."
   ]
  },
  {
   "cell_type": "code",
   "execution_count": 1,
   "metadata": {},
   "outputs": [
    {
     "name": "stdout",
     "output_type": "stream",
     "text": [
      "--2019-11-20 06:30:16--  http://yann.lecun.com/exdb/mnist/train-images-idx3-ubyte.gz\n",
      "Resolving yann.lecun.com (yann.lecun.com)... 216.165.22.6\n",
      "Connecting to yann.lecun.com (yann.lecun.com)|216.165.22.6|:80... connected.\n",
      "HTTP request sent, awaiting response... 200 OK\n",
      "Length: 9912422 (9.5M) [application/x-gzip]\n",
      "Saving to: 'Data/train-images-idx3-ubyte.gz'\n",
      "\n",
      "train-images-idx3-u 100%[===================>]   9.45M  2.71MB/s    in 4.3s    \n",
      "\n",
      "2019-11-20 06:30:21 (2.18 MB/s) - 'Data/train-images-idx3-ubyte.gz' saved [9912422/9912422]\n",
      "\n",
      "--2019-11-20 06:30:21--  http://yann.lecun.com/exdb/mnist/train-labels-idx1-ubyte.gz\n",
      "Resolving yann.lecun.com (yann.lecun.com)... 216.165.22.6\n",
      "Connecting to yann.lecun.com (yann.lecun.com)|216.165.22.6|:80... connected.\n",
      "HTTP request sent, awaiting response... 200 OK\n",
      "Length: 28881 (28K) [application/x-gzip]\n",
      "Saving to: 'Data/train-labels-idx1-ubyte.gz'\n",
      "\n",
      "train-labels-idx1-u 100%[===================>]  28.20K  --.-KB/s    in 0.1s    \n",
      "\n",
      "2019-11-20 06:30:22 (230 KB/s) - 'Data/train-labels-idx1-ubyte.gz' saved [28881/28881]\n",
      "\n"
     ]
    }
   ],
   "source": [
    "!wget -nc http://yann.lecun.com/exdb/mnist/train-images-idx3-ubyte.gz -P Data/\n",
    "!wget -nc http://yann.lecun.com/exdb/mnist/train-labels-idx1-ubyte.gz -P Data/\n",
    "\n",
    "!gunzip -c Data/train-images-idx3-ubyte.gz > Data/train-images-idx3-ubyte\n",
    "!gunzip -c Data/train-labels-idx1-ubyte.gz > Data/train-labels-idx1-ubyte"
   ]
  },
  {
   "cell_type": "code",
   "execution_count": 1,
   "metadata": {},
   "outputs": [
    {
     "name": "stdout",
     "output_type": "stream",
     "text": [
      "Dimensions of MNIST Image Data: (60000, 28, 28)\n",
      "Dimensions of MNIST Label Data: (60000,)\n"
     ]
    }
   ],
   "source": [
    "import numpy as np\n",
    "import struct\n",
    "\n",
    "with open('Data/train-images-idx3-ubyte','rb') as f:\n",
    "    _, size = struct.unpack(\">II\", f.read(8))\n",
    "    nrows, ncols = struct.unpack(\">II\", f.read(8))\n",
    "    data = np.fromfile(f, dtype=np.dtype(np.uint8).newbyteorder('>'))\n",
    "    data = data.reshape((size, nrows, ncols))\n",
    "\n",
    "with open('Data/train-labels-idx1-ubyte', 'rb') as f:\n",
    "    f.read(4)\n",
    "    f.read(4)\n",
    "    labelData = []\n",
    "    label = f.read(1)\n",
    "    while label:\n",
    "        labelData.append(label[0])\n",
    "        label = f.read(1)\n",
    "    labelData = np.asarray(labelData)\n",
    "\n",
    "print(\"Dimensions of MNIST Image Data: \"+str(data.shape))\n",
    "print(\"Dimensions of MNIST Label Data: \"+str(labelData.shape))\n"
   ]
  },
  {
   "cell_type": "code",
   "execution_count": 2,
   "metadata": {},
   "outputs": [
    {
     "data": {
      "image/png": "[encoded data removed]",
      "text/plain": [
       "<Figure size 432x288 with 1 Axes>"
      ]
     },
     "metadata": {
      "needs_background": "light"
     },
     "output_type": "display_data"
    },
    {
     "name": "stdout",
     "output_type": "stream",
     "text": [
      "Label for digit 10,000: 3\n"
     ]
    }
   ],
   "source": [
    "# Examine one entry from MNIST Dataset\n",
    "%matplotlib inline\n",
    "import seaborn as sns\n",
    "import matplotlib.pyplot as plt\n",
    "import cuml\n",
    "from sklearn.manifold import TSNE\n",
    "\n",
    "# Plot the 10,000th Digit\n",
    "image = np.asarray(data[10000]).squeeze()\n",
    "plt.imshow(image)\n",
    "plt.show()\n",
    "print(\"Label for digit 10,000: \"+str(labelData[10000]))"
   ]
  },
  {
   "cell_type": "code",
   "execution_count": 2,
   "metadata": {},
   "outputs": [
    {
     "name": "stdout",
     "output_type": "stream",
     "text": [
      "cudatoolkit               10.0.130                      0    nvidia\n",
      "cudnn                     7.6.0                cuda10.0_0    nvidia\n",
      "cuml                      0.10.0          cuda10.0_py36_0    rapidsai\n",
      "dask-cuda                 0.10.0                   py36_0    rapidsai\n",
      "dask-xgboost              0.2.0.dev28      cuda10.0py36_0    rapidsai\n",
      "libcudf                   0.10.0               cuda10.0_0    rapidsai\n",
      "libcugraph                0.10.0               cuda10.0_0    rapidsai\n",
      "libcuml                   0.10.0               cuda10.0_0    rapidsai\n",
      "libcumlprims              0.10.0a191017       cuda10.0_15    rapidsai-nightly\n",
      "libcuspatial              0.10.0               cuda10.0_0    rapidsai\n",
      "libnvstrings              0.10.0               cuda10.0_0    rapidsai\n",
      "librmm                    0.10.0               cuda10.0_0    rapidsai\n",
      "libxgboost                1.0.0.SNAPSHOT       cuda10.0_1    rapidsai\n",
      "nccl                      2.4.6.1              cuda10.0_0    nvidia\n",
      "py-xgboost                1.0.0.SNAPSHOT   cuda10.0py36_1    rapidsai\n",
      "rapids                    0.10.0          cuda10.0_py36_1    rapidsai\n",
      "rapids-xgboost            0.10.0          cuda10.0_py36_0    rapidsai\n",
      "xgboost                   1.0.0.SNAPSHOT   cuda10.0py36_1    rapidsai\n"
     ]
    }
   ],
   "source": [
    "! conda list | grep cuda"
   ]
  },
  {
   "cell_type": "markdown",
   "metadata": {},
   "source": [
    "We now have the MNIST Image data with a shape (60000, 28, 28), and the MNIST Label data with shape (60000,). Each pixel in the image data can actually be considered as a feature that represents the image. That means each of the 60,000 images has 784 features (28 * 28)!  "
   ]
  },
  {
   "cell_type": "code",
   "execution_count": 3,
   "metadata": {},
   "outputs": [],
   "source": [
    "# Reshaping to 60000 * 784\n",
    "dataFlattened = data.reshape(60000,(28*28))"
   ]
  },
  {
   "cell_type": "code",
   "execution_count": null,
   "metadata": {},
   "outputs": [],
   "source": [
    "# TAKES REALLY LONG TO RUN! LOL\n",
    "# CODE BLOCK FOR SKLEARN TSNE\n",
    "from sklearn.manifold import TSNE\n",
    "\n",
    "X_embedded = TSNE().fit_transform(dataFlattened)"
   ]
  },
  {
   "cell_type": "code",
   "execution_count": 1,
   "metadata": {},
   "outputs": [
    {
     "name": "stdout",
     "output_type": "stream",
     "text": [
      "Wed Nov 20 21:01:10 2019       \n",
      "+-----------------------------------------------------------------------------+\n",
      "| NVIDIA-SMI 430.26       Driver Version: 430.26       CUDA Version: 10.2     |\n",
      "|-------------------------------+----------------------+----------------------+\n",
      "| GPU  Name        Persistence-M| Bus-Id        Disp.A | Volatile Uncorr. ECC |\n",
      "| Fan  Temp  Perf  Pwr:Usage/Cap|         Memory-Usage | GPU-Util  Compute M. |\n",
      "|===============================+======================+======================|\n",
      "|   0  TITAN RTX           Off  | 00000000:01:00.0 Off |                  N/A |\n",
      "| 41%   37C    P8    12W / 280W |     43MiB / 24220MiB |      0%      Default |\n",
      "+-------------------------------+----------------------+----------------------+\n",
      "                                                                               \n",
      "+-----------------------------------------------------------------------------+\n",
      "| Processes:                                                       GPU Memory |\n",
      "|  GPU       PID   Type   Process name                             Usage      |\n",
      "|=============================================================================|\n",
      "|    0      1054      G   /opt/conda/envs/rapids/bin/python             30MiB |\n",
      "+-----------------------------------------------------------------------------+\n"
     ]
    }
   ],
   "source": [
    "!nvidia-smi"
   ]
  },
  {
   "cell_type": "code",
   "execution_count": 1,
   "metadata": {},
   "outputs": [
    {
     "name": "stdout",
     "output_type": "stream",
     "text": [
      "/bin/sh: 1: nvcc: not found\n"
     ]
    }
   ],
   "source": []
  },
  {
   "cell_type": "code",
   "execution_count": null,
   "metadata": {},
   "outputs": [],
   "source": [
    "# CODE BLOCK FOR RAPIDS TSNE\n",
    "tsneCuml = cuml.TSNE()\n",
    "\n",
    "tsneTransformed = tsneCuml.fit_transform(dataFlattened)"
   ]
  },
  {
   "cell_type": "code",
   "execution_count": null,
   "metadata": {},
   "outputs": [],
   "source": [
    "## THINGS TO DO:\n",
    "## TIMING ANALYSIS OF SKLEARN VS CUML\n",
    "## PLOT SCATTERPLOTS OF RESULTS with segmentation based on labelData"
   ]
  }
 ],
 "metadata": {
  "kernelspec": {
   "display_name": "Python 3",
   "language": "python",
   "name": "python3"
  },
  "language_info": {
   "codemirror_mode": {
    "name": "ipython",
    "version": 3
   },
   "file_extension": ".py",
   "mimetype": "text/x-python",
   "name": "python",
   "nbconvert_exporter": "python",
   "pygments_lexer": "ipython3",
   "version": "3.6.7"
  }
 },
 "nbformat": 4,
 "nbformat_minor": 4
}
